{
 "cells": [
  {
   "cell_type": "code",
   "execution_count": 11,
   "metadata": {},
   "outputs": [],
   "source": [
    "import numpy as np\n",
    "import pandas as pd\n",
    "import statsmodels.api as sm\n",
    "import statsmodels.tsa.stattools as ts"
   ]
  },
  {
   "cell_type": "code",
   "execution_count": 12,
   "metadata": {},
   "outputs": [],
   "source": [
    "# Read cluster data from CSV files\n",
    "cluster_1 = pd.read_csv('Cluster_1.csv').columns\n",
    "cluster_2 = pd.read_csv('Cluster_2.csv').columns\n",
    "cluster_3 = pd.read_csv('Cluster_3.csv').columns\n",
    "cluster_4 = pd.read_csv('Cluster_4.csv').columns\n",
    "\n",
    "# Read historical adjusted close prices for the financial sector\n",
    "price_data = pd.read_csv('hist adjust close financials.csv', index_col='Date', parse_dates=True)"
   ]
  },
  {
   "cell_type": "code",
   "execution_count": 13,
   "metadata": {},
   "outputs": [
    {
     "data": {
      "text/plain": [
       "Index(['ACN', 'CDAY', 'CTSH', 'DXC', 'IT', 'HPE'], dtype='object')"
      ]
     },
     "execution_count": 13,
     "metadata": {},
     "output_type": "execute_result"
    }
   ],
   "source": [
    "cluster_2"
   ]
  },
  {
   "cell_type": "code",
   "execution_count": 29,
   "metadata": {},
   "outputs": [],
   "source": [
    "clusters = [cluster_1, cluster_2, cluster_3, cluster_4]\n",
    "selected_pairs1 = []\n",
    "selected_pairs2 = []\n",
    "selected_pairs3 = []\n",
    "selected_pairs4 = []"
   ]
  },
  {
   "cell_type": "code",
   "execution_count": 15,
   "metadata": {},
   "outputs": [],
   "source": [
    "def is_cointegrated(df, stock1, stock2, significance_level=0.1):\n",
    "    y = df[stock1]\n",
    "    x = df[stock2]\n",
    "    x = sm.add_constant(x)\n",
    "    model = sm.OLS(y, x).fit()\n",
    "    residuals = model.resid\n",
    "    adf_result = ts.adfuller(residuals)\n",
    "    p_value = adf_result[1]\n",
    "    return p_value < significance_level\n",
    "\n",
    "def calculate_correlation(df, stock1, stock2):\n",
    "    return df[[stock1, stock2]].pct_change().corr().iloc[0, 1]"
   ]
  },
  {
   "cell_type": "code",
   "execution_count": 43,
   "metadata": {},
   "outputs": [
    {
     "name": "stdout",
     "output_type": "stream",
     "text": [
      "\n",
      "\n",
      "Selected pairs for mean reversion trading: [('ADBE', 'AKAM', 0.43403370985960793), ('APH', 'ADI', 0.6690229507866844), ('APH', 'CDNS', 0.6199248434544392), ('APH', 'CDW', 0.6693047569678652), ('APH', 'ENPH', 0.31489207383678003), ('ADI', 'CDNS', 0.6263922969109393), ('ADI', 'CDW', 0.5707645838936513), ('ADI', 'ENPH', 0.2905308122637178), ('AMAT', 'ENPH', 0.32641556160121865), ('AMAT', 'GEN', 0.29700555083612257), ('CDNS', 'ENPH', 0.2866114679613072), ('CDW', 'ENPH', 0.2822900053266096), ('ADBE', 'AKAM', 0.43403370985960793), ('APH', 'ADI', 0.6690229507866844), ('APH', 'CDNS', 0.6199248434544392), ('APH', 'CDW', 0.6693047569678652), ('APH', 'ENPH', 0.31489207383678003), ('ADI', 'CDNS', 0.6263922969109393), ('ADI', 'CDW', 0.5707645838936513), ('ADI', 'ENPH', 0.2905308122637178), ('AMAT', 'ENPH', 0.32641556160121865), ('AMAT', 'GEN', 0.29700555083612257), ('CDNS', 'ENPH', 0.2866114679613072), ('CDW', 'ENPH', 0.2822900053266096)]\n"
     ]
    }
   ],
   "source": [
    "#for cluster_num, cluster in enumerate(clusters, start=1):\n",
    "cluster=clusters[0]\n",
    "#print(f\"Analyzing Cluster 1: {cluster}\")\n",
    "n = len(cluster)\n",
    "for i in range(n):\n",
    "    for j in range(i + 1, n):\n",
    "        stock1 = cluster[i]\n",
    "        stock2 = cluster[j]\n",
    "        #print(f\"Checking stock pair {stock1}, {stock2}\")\n",
    "        correlation = calculate_correlation(price_data, stock1, stock2)\n",
    "        cointegrated = is_cointegrated(price_data, stock1, stock2)\n",
    "        if cointegrated:\n",
    "            #print(f\"Selected pair: {stock1}, {stock2}, correlation: {correlation} AND THEYRE {cointegrated}\")\n",
    "            selected_pairs1.append((stock1, stock2, correlation))\n",
    "print(\"\\n\")\n",
    "\n",
    "print(\"Selected pairs for mean reversion trading:\", selected_pairs1)\n"
   ]
  },
  {
   "cell_type": "code",
   "execution_count": 41,
   "metadata": {},
   "outputs": [
    {
     "name": "stdout",
     "output_type": "stream",
     "text": [
      "\n",
      "\n",
      "Selected pairs for mean reversion trading: []\n"
     ]
    }
   ],
   "source": [
    "#for cluster_num, cluster in enumerate(clusters, start=1):\n",
    "cluster=clusters[2]\n",
    "#print(f\"Analyzing Cluster 2: {cluster}\")\n",
    "n = len(cluster)\n",
    "for i in range(n):\n",
    "    for j in range(i + 1, n):\n",
    "        stock1 = cluster[i]\n",
    "        stock2 = cluster[j]\n",
    "        #print(f\"Checking stock pair {stock1}, {stock2}\")\n",
    "        correlation = calculate_correlation(price_data, stock1, stock2)\n",
    "        cointegrated2 = is_cointegrated(price_data, stock1, stock2)\n",
    "        if cointegrated2:\n",
    "            #print(f\"Selected pair: {stock1}, {stock2}, correlation: {correlation} AND THEYRE {cointegrated2}\")\n",
    "            selected_pairs2.append((stock1, stock2, correlation))\n",
    "print(\"\\n\")\n",
    "\n",
    "print(\"Selected pairs for mean reversion trading:\", selected_pairs2)"
   ]
  },
  {
   "cell_type": "code",
   "execution_count": 39,
   "metadata": {},
   "outputs": [
    {
     "name": "stdout",
     "output_type": "stream",
     "text": [
      "\n",
      "\n",
      "Selected pairs for mean reversion trading: [('AMD', 'AAPL', 0.43049899515824624), ('AMD', 'EPAM', 0.37269439771011076), ('ANSS', 'ADSK', 0.6918092364804238), ('AAPL', 'AVGO', 0.6179220848051642), ('AAPL', 'FTNT', 0.4828511462495335), ('ADSK', 'GLW', 0.5064173276811162), ('ADSK', 'EPAM', 0.48882153452642907), ('AVGO', 'FTNT', 0.4795144024071683), ('GLW', 'EPAM', 0.40453098343778415), ('GLW', 'FFIV', 0.47195571378974177), ('AMD', 'AAPL', 0.43049899515824624), ('AMD', 'EPAM', 0.37269439771011076), ('ANSS', 'ADSK', 0.6918092364804238), ('AAPL', 'AVGO', 0.6179220848051642), ('AAPL', 'FTNT', 0.4828511462495335), ('ADSK', 'GLW', 0.5064173276811162), ('ADSK', 'EPAM', 0.48882153452642907), ('AVGO', 'FTNT', 0.4795144024071683), ('GLW', 'EPAM', 0.40453098343778415), ('GLW', 'FFIV', 0.47195571378974177), ('AMD', 'AAPL', 0.43049899515824624), ('AMD', 'EPAM', 0.37269439771011076), ('ANSS', 'ADSK', 0.6918092364804238), ('AAPL', 'AVGO', 0.6179220848051642), ('AAPL', 'FTNT', 0.4828511462495335), ('ADSK', 'GLW', 0.5064173276811162), ('ADSK', 'EPAM', 0.48882153452642907), ('AVGO', 'FTNT', 0.4795144024071683), ('GLW', 'EPAM', 0.40453098343778415), ('GLW', 'FFIV', 0.47195571378974177)]\n"
     ]
    }
   ],
   "source": [
    "#CLUSTER 3 HAS ONLY ONE PAIR !!!\n",
    "\n",
    "\n",
    "#for cluster_num, cluster in enumerate(clusters, start=1):\n",
    "cluster=clusters[3]\n",
    "#print(f\"Analyzing Cluster 3: {cluster}\")\n",
    "n = len(cluster)\n",
    "for i in range(n):\n",
    "    for j in range(i + 1, n):\n",
    "        stock1 = cluster[i]\n",
    "        stock2 = cluster[j]\n",
    "        #print(f\"Checking stock pair {stock1}, {stock2}\")\n",
    "        correlation = calculate_correlation(price_data, stock1, stock2)\n",
    "        cointegrated3 = is_cointegrated(price_data, stock1, stock2)\n",
    "        if cointegrated3:\n",
    "            #print(f\"Selected pair: {stock1}, {stock2}, correlation: {correlation} AND THEYRE {cointegrated3}\")\n",
    "            selected_pairs3.append((stock1, stock2, correlation))\n",
    "print(\"\\n\")\n",
    "\n",
    "print(\"Selected pairs for mean reversion trading:\", selected_pairs3)"
   ]
  },
  {
   "cell_type": "code",
   "execution_count": 40,
   "metadata": {},
   "outputs": [
    {
     "data": {
      "text/plain": [
       "[]"
      ]
     },
     "execution_count": 40,
     "metadata": {},
     "output_type": "execute_result"
    }
   ],
   "source": [
    "selected_pairs2"
   ]
  },
  {
   "cell_type": "code",
   "execution_count": null,
   "metadata": {},
   "outputs": [],
   "source": []
  },
  {
   "cell_type": "code",
   "execution_count": null,
   "metadata": {},
   "outputs": [],
   "source": []
  },
  {
   "cell_type": "code",
   "execution_count": null,
   "metadata": {},
   "outputs": [],
   "source": []
  },
  {
   "cell_type": "code",
   "execution_count": null,
   "metadata": {},
   "outputs": [],
   "source": []
  },
  {
   "cell_type": "code",
   "execution_count": null,
   "metadata": {},
   "outputs": [],
   "source": []
  }
 ],
 "metadata": {
  "kernelspec": {
   "display_name": "Python 3",
   "language": "python",
   "name": "python3"
  },
  "language_info": {
   "codemirror_mode": {
    "name": "ipython",
    "version": 3
   },
   "file_extension": ".py",
   "mimetype": "text/x-python",
   "name": "python",
   "nbconvert_exporter": "python",
   "pygments_lexer": "ipython3",
   "version": "3.10.3"
  },
  "orig_nbformat": 4
 },
 "nbformat": 4,
 "nbformat_minor": 2
}
